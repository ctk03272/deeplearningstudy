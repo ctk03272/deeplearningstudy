{
  "nbformat": 4,
  "nbformat_minor": 0,
  "metadata": {
    "colab": {
      "provenance": [],
      "authorship_tag": "ABX9TyMHaDVW++YJ/uxSLVIqei3Z",
      "include_colab_link": true
    },
    "kernelspec": {
      "name": "python3",
      "display_name": "Python 3"
    },
    "language_info": {
      "name": "python"
    }
  },
  "cells": [
    {
      "cell_type": "markdown",
      "metadata": {
        "id": "view-in-github",
        "colab_type": "text"
      },
      "source": [
        "<a href=\"https://colab.research.google.com/github/ctk03272/deeplearningstudy/blob/main/chapter2.ipynb\" target=\"_parent\"><img src=\"https://colab.research.google.com/assets/colab-badge.svg\" alt=\"Open In Colab\"/></a>"
      ]
    },
    {
      "cell_type": "code",
      "execution_count": null,
      "metadata": {
        "id": "C0S9yDpWuIDG"
      },
      "outputs": [],
      "source": []
    },
    {
      "cell_type": "markdown",
      "source": [
        "2.1 퍼셉트론이란\n",
        "*   다수의 신호를 입력으로 받아 하나의 신호로 출력\n",
        "*   가중치를 통해서 하나의 값이 구해질수 있고, 그 값이 특정 임계값을 넘는지 아니냐에 따라서 1과 0으로 값이 구해진다.\n",
        "\n",
        "2.2 단순한 논리 회로\n",
        "\n",
        "2.2.1 AND 게이트\n",
        "\n",
        "|x1|x2|y|\n",
        "|------|---|---|\n",
        "|0|0|0|\n",
        "|1|0|0|\n",
        "|0|1|0|\n",
        "|1|1|1|\n",
        "\n",
        "2.2.2 NAND(NOT AND)게이트와 OR 게이트\n",
        "\n",
        "NAND 게이트\n",
        "\n",
        "|x1|x2|y|\n",
        "|------|---|---|\n",
        "|0|0|1|\n",
        "|1|0|1|\n",
        "|0|1|1|\n",
        "|1|1|0|\n",
        "\n",
        "OR 게이트\n",
        "\n",
        "|x1|x2|y|\n",
        "|------|---|---|\n",
        "|0|0|0|\n",
        "|1|0|1|\n",
        "|0|1|1|\n",
        "|1|1|1|"
      ],
      "metadata": {
        "id": "LDYNmW5Duu1e"
      }
    },
    {
      "cell_type": "code",
      "source": [
        "# 2.3 퍼셉트론 구현하기\n",
        "# AND 회로 코드로 구현\n",
        "\n",
        "def AND(x1,x2):\n",
        "  w1,w2,theta = 0.5,0.5,0.7\n",
        "  tmp=x1*w1 + x2*w2\n",
        "  if tmp<=theta:\n",
        "    return 0\n",
        "  elif tmp > theta:\n",
        "    return 1\n",
        "\n",
        "AND(0,1)"
      ],
      "metadata": {
        "colab": {
          "base_uri": "https://localhost:8080/"
        },
        "id": "uiJVX3Ad1YrM",
        "outputId": "083973c0-730e-423e-a6a1-1b286f8a2dd5"
      },
      "execution_count": 5,
      "outputs": [
        {
          "output_type": "execute_result",
          "data": {
            "text/plain": [
              "0"
            ]
          },
          "metadata": {},
          "execution_count": 5
        }
      ]
    },
    {
      "cell_type": "code",
      "source": [
        "AND(1,0)"
      ],
      "metadata": {
        "colab": {
          "base_uri": "https://localhost:8080/"
        },
        "id": "uemnm2Bg1iE8",
        "outputId": "9032a4a0-1648-4e2f-e2ec-5b71b6c40672"
      },
      "execution_count": 6,
      "outputs": [
        {
          "output_type": "execute_result",
          "data": {
            "text/plain": [
              "0"
            ]
          },
          "metadata": {},
          "execution_count": 6
        }
      ]
    },
    {
      "cell_type": "code",
      "source": [
        "AND(1,1)"
      ],
      "metadata": {
        "colab": {
          "base_uri": "https://localhost:8080/"
        },
        "id": "6ERjOOIp1zd4",
        "outputId": "6ce2287d-0b65-4494-b822-243e8600cba5"
      },
      "execution_count": 7,
      "outputs": [
        {
          "output_type": "execute_result",
          "data": {
            "text/plain": [
              "1"
            ]
          },
          "metadata": {},
          "execution_count": 7
        }
      ]
    },
    {
      "cell_type": "code",
      "source": [
        "# 2.3.2 가중치와 편향 도입\n",
        "# 가중치 방정식에는 평향을 줄 수 있다.\n",
        "\n",
        "import numpy as np\n",
        "x = np.array([0,1])\n",
        "w= np.array([0.5,0.5])\n",
        "b=-0.7\n",
        "w*x\n",
        "np.sum(w*x)\n",
        "np.sum(w*x)+b"
      ],
      "metadata": {
        "colab": {
          "base_uri": "https://localhost:8080/"
        },
        "id": "qZfweeVM2kQg",
        "outputId": "df9db974-a3e2-4248-e918-82c3d3bd3726"
      },
      "execution_count": 12,
      "outputs": [
        {
          "output_type": "execute_result",
          "data": {
            "text/plain": [
              "-0.19999999999999996"
            ]
          },
          "metadata": {},
          "execution_count": 12
        }
      ]
    },
    {
      "cell_type": "code",
      "source": [
        "# 2.3.3 가중치와 편향 구하기\n",
        "def AND(x1,x2):\n",
        "  x = np.array([x1,x2])\n",
        "  w = np.array([0.5,0.5])\n",
        "  b = -0.7\n",
        "  tmp = np.sum(w*x)+b\n",
        "  if tmp <=0:\n",
        "    return 0\n",
        "  else:\n",
        "    return 1\n",
        "\n",
        "# w1과 w2가 각 입력 신호의 영향력을 조정하는 매개변수이고, 편향은 뉴런이 얼마나 쉽게 활성화 하느냐를 조정하는 매개변수이다."
      ],
      "metadata": {
        "id": "kks8KRhO5IYh"
      },
      "execution_count": 16,
      "outputs": []
    },
    {
      "cell_type": "code",
      "source": [
        "def NAND(x1, x2):\n",
        "    x = np.array([x1, x2])\n",
        "    w = np.array([-0.5, -0.5])\n",
        "    b = 0.7\n",
        "    tmp = np.sum(w*x) + b\n",
        "    if tmp <= 0:\n",
        "        return 0\n",
        "    else:\n",
        "        return 1\n",
        ""
      ],
      "metadata": {
        "id": "zR0HFWtB5UmJ"
      },
      "execution_count": 15,
      "outputs": []
    },
    {
      "cell_type": "code",
      "source": [
        "def OR(x1, x2):\n",
        "    x = np.array([x1, x2])\n",
        "    w = np.array([0.5, 0.5])\n",
        "    b = -0.2\n",
        "    tmp = np.sum(w*x) + b\n",
        "    if tmp <= 0:\n",
        "        return 0\n",
        "    else:\n",
        "        return 1"
      ],
      "metadata": {
        "id": "OjUbG1HO6MNV"
      },
      "execution_count": 17,
      "outputs": []
    },
    {
      "cell_type": "markdown",
      "source": [
        "2.4 퍼셉트론의한계\n",
        "\n",
        "2.4.1 도전! XOR 게이트\n",
        "\n",
        "XOR 게이트는 베타적 논리합 -> 퍼셉트론으로는 XOR 논리게이트를 구현할 수 없음\n",
        "\n",
        "2.4.2\n",
        "\n",
        "직선 하나로는 xor게이트가 나타내는 영역을 나눌 수 없음 -> 비선형이 필요함\n",
        "\n",
        "2.5 다중 퍼셉트론이 출동한다면\n",
        "\n",
        "퍼셉트론으로는 XOR 표현 불가 -> 층을 쌓아 다중 퍼셉트론으로 표현 가능\n",
        "\n",
        "2.5.1 기존 게이트 조합하기\n",
        "\n",
        "XOR 게이트는 AND,NAND,OR 게이트 조합해서 만들 수 있다.\n",
        "\n",
        "한층을 더 추가하면된다.\n",
        "\n",
        "첫 계층에 NAND와 OR게이트를 연결하고 그 결과를 AND 게이트에 연결하면 된다.\n",
        "\n",
        "|x1|x2|s1|s2|y|\n",
        "|------|---|---|---|---|\n",
        "|0|0|1|0|0|\n",
        "|1|0|1|1|1|\n",
        "|0|1|1|1|1|\n",
        "|1|1|0|0|0|\n",
        "\n",
        "2.5.2 XOR 게이트 구현하기"
      ],
      "metadata": {
        "id": "bHkS5Uwp8kcf"
      }
    },
    {
      "cell_type": "code",
      "source": [
        "def XOR(x1, x2):\n",
        "    s1 = NAND(x1, x2)\n",
        "    s2 = OR(x1, x2)\n",
        "    y = AND(s1, s2)\n",
        "    return y\n"
      ],
      "metadata": {
        "id": "nyEW7JDr9tu8"
      },
      "execution_count": 18,
      "outputs": []
    },
    {
      "cell_type": "code",
      "source": [
        "print(XOR(0,0))\n",
        "print(XOR(1,0))\n",
        "print(XOR(0,1))\n",
        "print(XOR(1,1))"
      ],
      "metadata": {
        "colab": {
          "base_uri": "https://localhost:8080/"
        },
        "id": "Jqz6zZT0_UpE",
        "outputId": "d8fcff67-43df-4d7c-e743-6b100f99629e"
      },
      "execution_count": 19,
      "outputs": [
        {
          "output_type": "stream",
          "name": "stdout",
          "text": [
            "0\n",
            "1\n",
            "1\n",
            "0\n"
          ]
        }
      ]
    },
    {
      "cell_type": "markdown",
      "source": [
        "이렇게 여러층이 있는 경우를 다중 퍼셉트론이라고 한다.\n",
        "\n",
        "\n",
        "\n",
        "1.   0층의 두 뉴런이 입력신호를 받아 1층으로 뉴런으로 신호를 보낸다.\n",
        "2.   1층의 뉴런이 2층으로 뉴런으로 신호를 보내고, 2층의 뉴런을 값을 출력한다.\n",
        "\n"
      ],
      "metadata": {
        "id": "-k5wOkmr_hR5"
      }
    },
    {
      "cell_type": "markdown",
      "source": [
        "2.6 NAND에서 컴퓨터까지\n",
        "다중 퍼셉트론은 지금까지보다 복잡한 회로를 만들 수 있음 -> 컴퓨터까지도 표현할 수 있음"
      ],
      "metadata": {
        "id": "KH6zaUUi_47c"
      }
    }
  ]
}