{
  "nbformat": 4,
  "nbformat_minor": 0,
  "metadata": {
    "colab": {
      "provenance": [],
      "authorship_tag": "ABX9TyNcunydwjBZkKaL+A/pkm6x",
      "include_colab_link": true
    },
    "kernelspec": {
      "name": "python3",
      "display_name": "Python 3"
    },
    "language_info": {
      "name": "python"
    }
  },
  "cells": [
    {
      "cell_type": "markdown",
      "metadata": {
        "id": "view-in-github",
        "colab_type": "text"
      },
      "source": [
        "<a href=\"https://colab.research.google.com/github/ctk03272/deeplearningstudy/blob/main/%08chapter4.ipynb\" target=\"_parent\"><img src=\"https://colab.research.google.com/assets/colab-badge.svg\" alt=\"Open In Colab\"/></a>"
      ]
    },
    {
      "cell_type": "markdown",
      "source": [
        "4. 이번 장의 주제는 신경망 학습\n",
        "\n",
        "- 학습이란 가중치 매개변수의 최적값을 자동으로 획득하는 것\n",
        "- 손실 함수 -> 신경망이 학습할 수 있도록 해주는 지표\n",
        "\n",
        "4.1 데이터에서 학습한다.\n",
        "\n",
        "- 신경망의 특징은 데이터를 보고 학습 -> 가중치 매개변수의 값을 데이터를 보고 자동으로 결정\n",
        "\n",
        "4.1.1 데이터 주도 학습\n",
        "\n",
        "- 기계학습의 중심은 데이터\n",
        "- 이미지에서 특징을 추출하고 그 특징의 패턴을 기계학습 기술로 학습할 수 있다.\n",
        "- 데이터로부터 규칙을 찾아내는 역할을 '기계'를 담당\n",
        "- 신경망은 이미지를 '있는 그대로' 학습한다\n",
        "- 신경망은 종단간 기계학습이다.\n",
        "\n",
        "4.1.2 훈련 데이터와 시험 데이터\n",
        "\n",
        "- 기계학습 문제는 데이터를 훈련 데이터와 시험 데이터로 나눈다.\n",
        "- 훈련 데이터로 최적의 매개변수를 찾아서 시험데이터로 모델의 실력을 평가한다.\n",
        "- 나누는 이유는 범용 능력을 제대로 평가하기 위해 -> 범용능력이란 아직 보지 못한 데이터도 풀어내는 능력\n",
        "- 데이터셋 하나로만 학습과 평가를 하면 오버피팅이 어날 수 있음\n",
        "\n",
        "4.2. 손실 함수\n",
        "- 신경망은 현재의 상태를 '하나의 지표'로 표현한다. -> 그리고 그 지표를 가장 좋게 만들어주는 가중치 매개변수를 찾는다\n",
        "- 이 하나의 지표를 손실함수라고 한다.\n",
        "\n",
        "4.2.1 오차제곱합\n",
        "- 가장 많이 쓰이는 손실 함수는 오차제곱합\n",
        "- 원-핫 인코딩이란? -> 한 원소만 1로하고 그 외는 0으로"
      ],
      "metadata": {
        "id": "R4c0ftIFbbKd"
      }
    },
    {
      "cell_type": "code",
      "source": [
        "import numpy as np\n",
        "\n",
        "def sum_squares_error(y,t):\n",
        "  return 0.5 & np.sum((y-t)**2)\\"
      ],
      "metadata": {
        "id": "0p_xnWiMfXMJ"
      },
      "execution_count": null,
      "outputs": []
    },
    {
      "cell_type": "markdown",
      "source": [
        "4.2.2 교차 엔트로피 오차\n",
        "- 또 다른 손실함수로는 교차 엔트로피 오차"
      ],
      "metadata": {
        "id": "XabaCmKtmNOp"
      }
    },
    {
      "cell_type": "code",
      "source": [
        "def cross_entropy_error(y,t):\n",
        "  delta = 1e-7\n",
        "  return -np.sum(t*np.log(y+delta))"
      ],
      "metadata": {
        "id": "3zoiNvPemlxM"
      },
      "execution_count": null,
      "outputs": []
    },
    {
      "cell_type": "markdown",
      "source": [
        "4.2.3 미니 배치 함수\n",
        "\n",
        "- 너무 많은 데이터를 대상으로 손실함수를 구하는것은 시간도 오래 걸리고 현실적이지 않다. 그렇기에 데이터의 일부를 추려 전체의 근사치로 이요할 수 있습니다. 이 일부를 미니배치 라고 한다. 그리고 이러한 학습을 미니배치 학습이라고 한다."
      ],
      "metadata": {
        "id": "oO5REPcdmxZt"
      }
    },
    {
      "cell_type": "code",
      "source": [
        "from mnist import load_mnist\n",
        "\n",
        "(x_train, t_train), (x_test, t_test) = load_mnist(flatten=True,\n",
        "                                                  normalize=False, one_hot_label=True)\n",
        "\n",
        "print(x_train.shape)\n",
        "print(t_train.shape)"
      ],
      "metadata": {
        "id": "GPFVeUKtoMDd",
        "colab": {
          "base_uri": "https://localhost:8080/"
        },
        "outputId": "124fddb3-4c38-4118-84b6-dd5c5b03d7ef"
      },
      "execution_count": 10,
      "outputs": [
        {
          "output_type": "stream",
          "name": "stdout",
          "text": [
            "(60000, 784)\n",
            "(60000, 10)\n"
          ]
        }
      ]
    },
    {
      "cell_type": "code",
      "source": [
        "train_size = x_train.shape[0]\n",
        "batch_size = 10\n",
        "batch_mask = np.random.choice(train_size,batch_size)\n",
        "x_batch = x_train[batch_mask]\n",
        "t_batch = t_train[batch_mask]"
      ],
      "metadata": {
        "id": "GNNB8LwIp1RG"
      },
      "execution_count": 12,
      "outputs": []
    },
    {
      "cell_type": "markdown",
      "source": [
        "4.2.4. 교타 엔트로피 오차 구현하기"
      ],
      "metadata": {
        "id": "EEKmgH6LqKJS"
      }
    },
    {
      "cell_type": "code",
      "source": [
        "def cross_entropy_error(y,t):\n",
        "  if y.dim ==1:\n",
        "    t = t.reshape(1,t.size)\n",
        "    y = y.reshape(1,y.size)\n",
        "  batch_size = y.shape[0]\n",
        "  return -np.sum(np.log(y[np.arrange(batch_size),t]+1e-7))/batch_size\n"
      ],
      "metadata": {
        "id": "UNVBlkMbqbRD"
      },
      "execution_count": 13,
      "outputs": []
    },
    {
      "cell_type": "markdown",
      "source": [
        "4.2.5 왜 손실 함수를 설정하였는가?\n",
        "- 신경망 학습시 정확도를 지표로 삼아서는 안되는 이유는 정확도를 지표로 하면 매개변수의 미분이 대부분의 장소에서 0이 되기 때문이다.\n",
        "\n",
        "4.3 수치 미분\n",
        "이후 미분 편미분에 관한 내용은 너무 기본적인 수학 내용이라 생략."
      ],
      "metadata": {
        "id": "5UKBdCETq3Ap"
      }
    },
    {
      "cell_type": "code",
      "source": [
        "import numpy as np\n",
        "import matplotlib.pylab as plt\n",
        "\n",
        "\n",
        "def numerical_diff(f, x):\n",
        "    h = 1e-4 # 0.0001\n",
        "    return (f(x+h) - f(x-h)) / (2*h)\n",
        "\n",
        "\n",
        "def function_1(x):\n",
        "    return 0.01*x**2 + 0.1*x\n",
        "\n",
        "\n",
        "def tangent_line(f, x):\n",
        "    d = numerical_diff(f, x)\n",
        "    print(d)\n",
        "    y = f(x) - d*x\n",
        "    return lambda t: d*t + y\n",
        "\n",
        "x = np.arange(0.0, 20.0, 0.1)\n",
        "y = function_1(x)\n",
        "plt.xlabel(\"x\")\n",
        "plt.ylabel(\"f(x)\")\n",
        "\n",
        "tf = tangent_line(function_1, 5)\n",
        "y2 = tf(x)\n",
        "\n",
        "plt.plot(x, y)\n",
        "plt.plot(x, y2)\n",
        "plt.show()"
      ],
      "metadata": {
        "colab": {
          "base_uri": "https://localhost:8080/",
          "height": 467
        },
        "id": "CqLwlvFGs4I7",
        "outputId": "97a65faa-ab75-469f-d5a1-f2621ae5ec19"
      },
      "execution_count": 14,
      "outputs": [
        {
          "output_type": "stream",
          "name": "stdout",
          "text": [
            "0.1999999999990898\n"
          ]
        },
        {
          "output_type": "display_data",
          "data": {
            "text/plain": [
              "<Figure size 640x480 with 1 Axes>"
            ],
            "image/png": "[encoded data removed]"
          },
          "metadata": {}
        }
      ]
    },
    {
      "cell_type": "code",
      "source": [
        "# coding: utf-8\n",
        "import sys, os\n",
        "sys.path.append(os.pardir)  # 부모 디렉터리의 파일을 가져올 수 있도록 설정\n",
        "import numpy as np\n",
        "from common.functions import softmax, cross_entropy_error\n",
        "from common.gradient import numerical_gradient\n",
        "\n",
        "\n",
        "class simpleNet:\n",
        "    def __init__(self):\n",
        "        self.W = np.random.randn(2,3) # 정규분포로 초기화\n",
        "\n",
        "    def predict(self, x):\n",
        "        return np.dot(x, self.W)\n",
        "\n",
        "    def loss(self, x, t):\n",
        "        z = self.predict(x)\n",
        "        y = softmax(z)\n",
        "        loss = cross_entropy_error(y, t)\n",
        "\n",
        "        return loss\n",
        "\n",
        "x = np.array([0.6, 0.9])\n",
        "t = np.array([0, 0, 1])\n",
        "\n",
        "net = simpleNet()\n",
        "\n",
        "f = lambda w: net.loss(x, t)\n",
        "dW = numerical_gradient(f, net.W)\n",
        "\n",
        "print(dW)"
      ],
      "metadata": {
        "colab": {
          "base_uri": "https://localhost:8080/"
        },
        "id": "bdMJLqaKt1rr",
        "outputId": "9d0cf275-baa4-4686-ee67-46050833b0da"
      },
      "execution_count": 18,
      "outputs": [
        {
          "output_type": "stream",
          "name": "stdout",
          "text": [
            "[[ 0.42124508  0.1419306  -0.56317568]\n",
            " [ 0.63186762  0.2128959  -0.84476352]]\n"
          ]
        }
      ]
    },
    {
      "cell_type": "markdown",
      "source": [
        "4.5 학습 알고리즘 구현하기\n",
        "- 전제 -> 미니배치 -> 기울기 산출 -> 매개변수 갱신\n",
        "- 경사하강법이며, 미니배치 이기 때문에 확률적 경사하강법이라고 한다."
      ],
      "metadata": {
        "id": "YufP3_uYvIT5"
      }
    },
    {
      "cell_type": "code",
      "source": [
        "# coding: utf-8\n",
        "import sys, os\n",
        "sys.path.append(os.pardir)  # 부모 디렉터리의 파일을 가져올 수 있도록 설정\n",
        "from common.functions import *\n",
        "from common.gradient import numerical_gradient\n",
        "\n",
        "\n",
        "class TwoLayerNet:\n",
        "\n",
        "    def __init__(self, input_size, hidden_size, output_size, weight_init_std=0.01):\n",
        "        # 가중치 초기화\n",
        "        self.params = {}\n",
        "        self.params['W1'] = weight_init_std * np.random.randn(input_size, hidden_size)\n",
        "        self.params['b1'] = np.zeros(hidden_size)\n",
        "        self.params['W2'] = weight_init_std * np.random.randn(hidden_size, output_size)\n",
        "        self.params['b2'] = np.zeros(output_size)\n",
        "\n",
        "    def predict(self, x):\n",
        "        W1, W2 = self.params['W1'], self.params['W2']\n",
        "        b1, b2 = self.params['b1'], self.params['b2']\n",
        "\n",
        "        a1 = np.dot(x, W1) + b1\n",
        "        z1 = sigmoid(a1)\n",
        "        a2 = np.dot(z1, W2) + b2\n",
        "        y = softmax(a2)\n",
        "\n",
        "        return y\n",
        "\n",
        "    # x : 입력 데이터, t : 정답 레이블\n",
        "    def loss(self, x, t):\n",
        "        y = self.predict(x)\n",
        "\n",
        "        return cross_entropy_error(y, t)\n",
        "\n",
        "    def accuracy(self, x, t):\n",
        "        y = self.predict(x)\n",
        "        y = np.argmax(y, axis=1)\n",
        "        t = np.argmax(t, axis=1)\n",
        "\n",
        "        accuracy = np.sum(y == t) / float(x.shape[0])\n",
        "        return accuracy\n",
        "\n",
        "    # x : 입력 데이터, t : 정답 레이블\n",
        "    def numerical_gradient(self, x, t):\n",
        "        loss_W = lambda W: self.loss(x, t)\n",
        "\n",
        "        grads = {}\n",
        "        grads['W1'] = numerical_gradient(loss_W, self.params['W1'])\n",
        "        grads['b1'] = numerical_gradient(loss_W, self.params['b1'])\n",
        "        grads['W2'] = numerical_gradient(loss_W, self.params['W2'])\n",
        "        grads['b2'] = numerical_gradient(loss_W, self.params['b2'])\n",
        "\n",
        "        return grads\n",
        "\n",
        "    def gradient(self, x, t):\n",
        "        W1, W2 = self.params['W1'], self.params['W2']\n",
        "        b1, b2 = self.params['b1'], self.params['b2']\n",
        "        grads = {}\n",
        "\n",
        "        batch_num = x.shape[0]\n",
        "\n",
        "        # forward\n",
        "        a1 = np.dot(x, W1) + b1\n",
        "        z1 = sigmoid(a1)\n",
        "        a2 = np.dot(z1, W2) + b2\n",
        "        y = softmax(a2)\n",
        "\n",
        "        # backward\n",
        "        dy = (y - t) / batch_num\n",
        "        grads['W2'] = np.dot(z1.T, dy)\n",
        "        grads['b2'] = np.sum(dy, axis=0)\n",
        "\n",
        "        da1 = np.dot(dy, W2.T)\n",
        "        dz1 = sigmoid_grad(a1) * da1\n",
        "        grads['W1'] = np.dot(x.T, dz1)\n",
        "        grads['b1'] = np.sum(dz1, axis=0)\n",
        "\n",
        "        return grads"
      ],
      "metadata": {
        "id": "MxW7EV7KvZ3A"
      },
      "execution_count": 19,
      "outputs": []
    },
    {
      "cell_type": "code",
      "source": [
        "# coding: utf-8\n",
        "import sys, os\n",
        "sys.path.append(os.pardir)  # 부모 디렉터리의 파일을 가져올 수 있도록 설정\n",
        "import numpy as np\n",
        "import matplotlib.pyplot as plt\n",
        "from mnist import load_mnist\n",
        "\n",
        "# 데이터 읽기\n",
        "(x_train, t_train), (x_test, t_test) = load_mnist(normalize=True, one_hot_label=True)\n",
        "\n",
        "network = TwoLayerNet(input_size=784, hidden_size=50, output_size=10)\n",
        "\n",
        "# 하이퍼파라미터\n",
        "iters_num = 10000  # 반복 횟수를 적절히 설정한다.\n",
        "train_size = x_train.shape[0]\n",
        "batch_size = 100   # 미니배치 크기\n",
        "learning_rate = 0.1\n",
        "\n",
        "train_loss_list = []\n",
        "train_acc_list = []\n",
        "test_acc_list = []\n",
        "\n",
        "# 1에폭당 반복 수\n",
        "iter_per_epoch = max(train_size / batch_size, 1)\n",
        "\n",
        "for i in range(iters_num):\n",
        "    # 미니배치 획득\n",
        "    batch_mask = np.random.choice(train_size, batch_size)\n",
        "    x_batch = x_train[batch_mask]\n",
        "    t_batch = t_train[batch_mask]\n",
        "\n",
        "    # 기울기 계산\n",
        "    #grad = network.numerical_gradient(x_batch, t_batch)\n",
        "    grad = network.gradient(x_batch, t_batch)\n",
        "\n",
        "    # 매개변수 갱신\n",
        "    for key in ('W1', 'b1', 'W2', 'b2'):\n",
        "        network.params[key] -= learning_rate * grad[key]\n",
        "\n",
        "    # 학습 경과 기록\n",
        "    loss = network.loss(x_batch, t_batch)\n",
        "    train_loss_list.append(loss)\n",
        "\n",
        "    # 1에폭당 정확도 계산\n",
        "    if i % iter_per_epoch == 0:\n",
        "        train_acc = network.accuracy(x_train, t_train)\n",
        "        test_acc = network.accuracy(x_test, t_test)\n",
        "        train_acc_list.append(train_acc)\n",
        "        test_acc_list.append(test_acc)\n",
        "        print(\"train acc, test acc | \" + str(train_acc) + \", \" + str(test_acc))\n",
        "\n",
        "# 그래프 그리기\n",
        "markers = {'train': 'o', 'test': 's'}\n",
        "x = np.arange(len(train_acc_list))\n",
        "plt.plot(x, train_acc_list, label='train acc')\n",
        "plt.plot(x, test_acc_list, label='test acc', linestyle='--')\n",
        "plt.xlabel(\"epochs\")\n",
        "plt.ylabel(\"accuracy\")\n",
        "plt.ylim(0, 1.0)\n",
        "plt.legend(loc='lower right')\n",
        "plt.show()"
      ],
      "metadata": {
        "colab": {
          "base_uri": "https://localhost:8080/",
          "height": 759
        },
        "id": "qmlaFnDMwG7e",
        "outputId": "ebacb227-5b62-41c0-9016-341c01b8ff65"
      },
      "execution_count": 21,
      "outputs": [
        {
          "output_type": "stream",
          "name": "stdout",
          "text": [
            "train acc, test acc | 0.09871666666666666, 0.098\n",
            "train acc, test acc | 0.7956, 0.7996\n",
            "train acc, test acc | 0.8773166666666666, 0.8829\n",
            "train acc, test acc | 0.8977, 0.9015\n",
            "train acc, test acc | 0.9079666666666667, 0.911\n",
            "train acc, test acc | 0.9140666666666667, 0.9181\n",
            "train acc, test acc | 0.9188666666666667, 0.9215\n",
            "train acc, test acc | 0.9237833333333333, 0.9251\n",
            "train acc, test acc | 0.92695, 0.9288\n",
            "train acc, test acc | 0.9297833333333333, 0.9316\n",
            "train acc, test acc | 0.93305, 0.9335\n",
            "train acc, test acc | 0.9361166666666667, 0.9362\n",
            "train acc, test acc | 0.9388333333333333, 0.9387\n",
            "train acc, test acc | 0.9406833333333333, 0.9398\n",
            "train acc, test acc | 0.9424333333333333, 0.9415\n",
            "train acc, test acc | 0.9448166666666666, 0.9427\n",
            "train acc, test acc | 0.94665, 0.9448\n"
          ]
        },
        {
          "output_type": "display_data",
          "data": {
            "text/plain": [
              "<Figure size 640x480 with 1 Axes>"
            ],
            "image/png": "[encoded data removed]"
          },
          "metadata": {}
        }
      ]
    }
  ]
}